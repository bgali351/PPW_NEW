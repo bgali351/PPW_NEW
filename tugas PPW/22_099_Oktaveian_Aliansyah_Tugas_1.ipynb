{
  "cells": [
    {
      "cell_type": "markdown",
      "metadata": {
        "id": "sxX55pozBQJy"
      },
      "source": [
        "# crawling berita di kompas\n",
        "\n",
        "## apa itu crawling?\n",
        "\n",
        "crawling merupakan program otomastis untuk mengumpulkan informasi dari berbagai halaman web. program crawling yang bisa di sebut juga \"web spider\" yang secara sistematis mengunjungi halaman-halaman web dan mengumpulkan data seperti teks, gambar dan metadata.\n",
        "\n",
        "proses crawling ini biasanya digunakan oleh mesin search engine untuk mengindeks konten web, sehingga ketika orang melakukan pencarian, mesin pencari dapat dengan cepat memberikan konten yang relevan."
      ]
    },
    {
      "cell_type": "markdown",
      "metadata": {
        "id": "47tIjVVJEGO9"
      },
      "source": [
        "#proses melakukan crawling\n",
        "##tool atau library\n"
      ]
    },
    {
      "cell_type": "code",
      "execution_count": null,
      "metadata": {
        "id": "0e5Dn0R4BHtI"
      },
      "outputs": [],
      "source": [
        "from bs4 import BeautifulSoup as bs\n",
        "import requests\n",
        "import pandas as pd\n",
        "import time"
      ]
    },
    {
      "cell_type": "markdown",
      "metadata": {
        "id": "RrWSeR7HFKX2"
      },
      "source": [
        "- BeautifulSoup berfungsi untuk parsing HTML dan ekstraksi data\n",
        "- request berfungsi untuk mengirim permintaan HTTP\n",
        "- pandas berfungsi untuk membaca dan menganalisis data yang disimpan\n",
        "- time berfungsi untuk memberikan delay agar server tidak overload"
      ]
    },
    {
      "cell_type": "markdown",
      "metadata": {
        "id": "xZYMkLe7INrs"
      },
      "source": [
        "#code program\n",
        "\n"
      ]
    },
    {
      "cell_type": "code",
      "execution_count": null,
      "metadata": {
        "id": "rxJjAezmKfzR"
      },
      "outputs": [],
      "source": [
        "def replace_text(txt):\n",
        "  txt = txt.replace('Baca berita tanpa iklan.', '')\n",
        "  txt = txt.replace('\\xa0', '')\n",
        "  txt = txt.replace('\\n', '')\n",
        "  return txt"
      ]
    },
    {
      "cell_type": "markdown",
      "metadata": {
        "id": "ekPpr1EDNI1d"
      },
      "source": [
        "fungsi ini berfungsi untuk menghapus text yang tidak dibutuhkan\n"
      ]
    },
    {
      "cell_type": "code",
      "execution_count": null,
      "metadata": {
        "id": "lgRsWHBKPPOR"
      },
      "outputs": [],
      "source": [
        "def scraping(soup):\n",
        "    isi_berita = {}\n",
        "\n",
        "    title = soup.find('h1', {'class': 'read__title'})\n",
        "    isi_berita[\"judul\"] = title.text.strip() if title else \"Title not found\"\n",
        "\n",
        "    rplc = []\n",
        "    berita = soup.find('div', {'class': 'read__content'})\n",
        "    if berita:\n",
        "        for paragraph in berita.find_all('p'):\n",
        "            rplc.append(replace_text(paragraph.text))\n",
        "        isi_berita[\"isi\"] = \" \".join(rplc)\n",
        "    else:\n",
        "        isi_berita[\"isi\"] = \"Content not found\"\n",
        "\n",
        "    date = soup.find('div', {'class': 'read__time'})\n",
        "    isi_berita[\"tanggal\"] = date.text.strip() if date else \"Date not found\"\n",
        "\n",
        "    category = soup.select_one('body > div.wrap > div.container.clearfix > div:nth-child(3) > div > h3 > ul > li:nth-child(3) > a > span')\n",
        "    isi_berita[\"kategori\"] = category.text.strip() if category else \"Category not found\"\n",
        "    return isi_berita"
      ]
    },
    {
      "cell_type": "markdown",
      "metadata": {
        "id": "2B_036D2XA_q"
      },
      "source": [
        "fungsi ini untuk proses scraping data dengan mengambil judul, pembersihan isi, tanggal berita, dan kategori berita"
      ]
    },
    {
      "cell_type": "code",
      "execution_count": null,
      "metadata": {
        "id": "8_ZiRbtfIW7w"
      },
      "outputs": [],
      "source": [
        "def linked_news(url):\n",
        "    try:\n",
        "        response = requests.get(url)\n",
        "        response.raise_for_status()\n",
        "        return bs(response.text, \"html5lib\")\n",
        "    except requests.exceptions.RequestException as e:\n",
        "        print(f\"Request failed: {e}\")\n",
        "        return None"
      ]
    },
    {
      "cell_type": "markdown",
      "metadata": {
        "id": "DqrUJeLoKSx_"
      },
      "source": [
        "fungsi linked_news ini untuk mengambil isi html dalam web yang membutuhkan library request dan BeautifulSoup"
      ]
    },
    {
      "cell_type": "code",
      "execution_count": null,
      "metadata": {
        "id": "ZmUysV2LZkI2"
      },
      "outputs": [],
      "source": [
        "def link_berita(soup):\n",
        "    if soup:\n",
        "        konten = soup.find('div', {'class': 'articleList -list'})\n",
        "        if konten:\n",
        "            articles = konten.find_all(\"div\", class_=\"articleItem\")\n",
        "            print(f\"Found {len(articles)} articles on this page.\")  # Debugging print\n",
        "            return articles\n",
        "    print(\"No articles found.\")  # Debugging print\n",
        "    return []"
      ]
    },
    {
      "cell_type": "markdown",
      "metadata": {
        "id": "lrVx_FREeNHa"
      },
      "source": [
        "fungsi link_berita untuk mengambil semua berita yang berada di halaman hompage web"
      ]
    },
    {
      "cell_type": "code",
      "execution_count": null,
      "metadata": {
        "id": "Jx7EDNXqeXHh"
      },
      "outputs": [],
      "source": [
        "def start(page=1):\n",
        "    base_url = 'https://indeks.kompas.com/?site=news&page='\n",
        "    news = []\n",
        "\n",
        "    for current_page in range(1, page + 1):\n",
        "        url = base_url + str(current_page)\n",
        "        print(f\"Fetching page: {url}\")  # Debugging print\n",
        "        soup = linked_news(url)\n",
        "        if soup:\n",
        "            articles = link_berita(soup)\n",
        "            for article in articles:\n",
        "                new_link = article.find('a')['href']\n",
        "                soup_berita = linked_news(new_link)\n",
        "                if soup_berita:\n",
        "                    hasil = scraping(soup_berita)\n",
        "                    news.append(hasil)\n",
        "        time.sleep(1)\n",
        "    return news"
      ]
    },
    {
      "cell_type": "markdown",
      "metadata": {
        "id": "UKoaSV5Oj6Ft"
      },
      "source": [
        "fungsi start ini untuk perulangan mengambil url berita pada halaman homepage, dan juga menggunakan funtion yang telah dibuat sebelumnya.\n",
        "\n",
        "kemudian ada program untuk memasukkan berapa halaman yang ingin di scraping"
      ]
    },
    {
      "cell_type": "code",
      "execution_count": null,
      "metadata": {
        "colab": {
          "base_uri": "https://localhost:8080/"
        },
        "id": "DGyPd3AfKudX",
        "outputId": "2506787a-eefd-4557-f4cf-ced512b14ffb"
      },
      "outputs": [
        {
          "name": "stdout",
          "output_type": "stream",
          "text": [
            "Masukkan jumlah halaman: 2\n",
            "Fetching page: https://indeks.kompas.com/?site=news&page=1\n",
            "Found 15 articles on this page.\n",
            "Fetching page: https://indeks.kompas.com/?site=news&page=2\n",
            "Found 15 articles on this page.\n",
            "                                                judul  \\\n",
            "0   Bocah di Serpong Diculik Pria Berjaket Ojol Ke...   \n",
            "1   Pesawat Trigana Air Tergelincir di Papua, Semu...   \n",
            "2   Rano Karno Optimistis Bisa Tuntaskan Polemik K...   \n",
            "3   KPU Terima Permintaan Penggantian Caleg Terpil...   \n",
            "4         KPU Susun Aturan soal Dana Kampanye Pilkada   \n",
            "5   Heru Budi Bakal Uji Coba Makan Bergizi Gratis ...   \n",
            "6   Resmikan Venue PON XXI di Aceh, Jokowi: Jangan...   \n",
            "7   Minta Demokrat Dukung Pemerintahan Prabowo, SB...   \n",
            "8   Pesawat Trigana Air yang Tergelincir Ditumpang...   \n",
            "9   Muncul Gerakan Coblos 3 Paslon Pilkada Jakarta...   \n",
            "10  Minta Dukung Masa Transisi Jokowi ke Prabowo, ...   \n",
            "11  Pertama Kalinya, Heru Budi Uji Coba Program Ma...   \n",
            "12  Di HUT Ke-23 Demokrat, SBY Minta Konstitusi da...   \n",
            "13  ADHI Bersama Presiden Resmikan RS Terbesar di ...   \n",
            "14  Lektor Tunanetra Dustin: Tuhan Membuat Saya Se...   \n",
            "15                     MA Tolak PK Kedua Djoko Susilo   \n",
            "16  Serap Aspirasi, Rano Karno Gelar Pertemuan den...   \n",
            "17  Sandi Butar Butar Laporkan Dinas Damkar Depok ...   \n",
            "18  Indonesia Perlu Wacanakan Kotak Kosong Tak Han...   \n",
            "19  Jadi Lektor Saat Misa Kudus Paus Fransiskus di...   \n",
            "20  Hasil Otopsi Jasad Pasutri Lansia di Cipondoh:...   \n",
            "21  KPU Akan Rapat dengan DPR Selasa Besok, Bahas ...   \n",
            "22  \"Kampanye\" Dini Pramono Anung dan Ridwan Kamil...   \n",
            "23  Deretan Purnawirawan Jenderal di Belakang Ahma...   \n",
            "24      Wapres Akan Resmikan Pasar di Bangka Belitung   \n",
            "25  Jokowi Resmikan Tol Sigli-Banda Aceh Senilai R...   \n",
            "26  Pasutri Lansia Tewas di Cipondoh, Polisi Sebut...   \n",
            "27  Pria Ditemukan Tewas di Dalam Mobil yang Terpa...   \n",
            "28  Lektor Tunanetra Dustin: Tidak Pernah Bermimpi...   \n",
            "29  Mengenal SMA Taruna Nusantara yang Alumnusnya ...   \n",
            "\n",
            "                                                  isi  \\\n",
            "0   JAKARTA, KOMPAS.com - Bocah laki-laki berinisi...   \n",
            "1   JAKARTA, KOMPAS.com - Seluruh penumpang dan kr...   \n",
            "2   JAKARTA, KOMPAS.com - Bakal calon wakil gubern...   \n",
            "3   JAKARTA, KOMPAS.com - Komisi Pemilihan Umum (K...   \n",
            "4   JAKARTA, KOMPAS.com - Komisi Pemilihan Umum (K...   \n",
            "5   JAKARTA, KOMPAS.com - Penjabat (Pj) Gubernur J...   \n",
            "6   JAKARTA, KOMPAS.com - Presiden Joko Widodo mer...   \n",
            "7   JAKARTA, KOMPAS.com - Ketua Majelis Tinggi Par...   \n",
            "8    JAKARTA, KOMPAS.com - Istri Pj Gubernur Papua...   \n",
            "9   JAKARTA, KOMPAS.com - Bakal calon wakil gubern...   \n",
            "10  JAKARTA, KOMPAS.com - Ketua Majelis Tinggi Par...   \n",
            "11  JAKARTA, KOMPAS.com - Penjabat (Pj) Gubernur J...   \n",
            "12  JAKARTA, KOMPAS.com - Ketua Majelis Tinggi Par...   \n",
            "13   KOMPAS.com - PT Adhi Karya (Persero) Tbk (ADH...   \n",
            "14  JAKARTA, KOMPAS.com - Penyandang tunanetra yan...   \n",
            "15  JAKARTA, KOMPAS.com - Mahkamah Agung (MA) meno...   \n",
            "16  JAKARTA, KOMPAS.com - Bakal calon wakil gubern...   \n",
            "17  DEPOK, KOMPAS.com - Sandi Butar Butar, petugas...   \n",
            "18   JAKARTA, KOMPAS.com - Indonesia dinilai perlu...   \n",
            "19   JAKARTA, KOMPAS.com - Bernadus Dustin (22), p...   \n",
            "20   TANGERANG, KOMPAS.com - Kasat Reskrim Polres ...   \n",
            "21  JAKARTA, KOMPAS.com - Komisi Pemilihan Umum (K...   \n",
            "22  JAKARTA, KOMPAS.com - Dua bakal pasangan calon...   \n",
            "23  JAKARTA, KOMPAS.com - Sejumlah jenderal purnaw...   \n",
            "24  JAKARTA, KOMPAS.com - Wakil Presiden (Wapres) ...   \n",
            "25  JAKARTA, KOMPAS.com - Presiden Joko Widodo mer...   \n",
            "26  TANGERANG, KOMPAS.com - BK (70) dan RB (65), p...   \n",
            "27  JAKARTA, KOMPAS.com - Pria bernama Sukirno (42...   \n",
            "28   JAKARTA, KOMPAS.com - Penyandang tunanetra Be...   \n",
            "29  JAKARTA, KOMPAS.com - SMA Taruna Nusantara, se...   \n",
            "\n",
            "                               tanggal     kategori  \n",
            "0   Kompas.com - 09/09/2024, 13:16 WIB  Megapolitan  \n",
            "1   Kompas.com - 09/09/2024, 13:16 WIB     Nasional  \n",
            "2   Kompas.com - 09/09/2024, 13:15 WIB  Megapolitan  \n",
            "3   Kompas.com - 09/09/2024, 13:11 WIB     Nasional  \n",
            "4   Kompas.com - 09/09/2024, 13:10 WIB     Nasional  \n",
            "5   Kompas.com - 09/09/2024, 13:03 WIB  Megapolitan  \n",
            "6   Kompas.com - 09/09/2024, 13:02 WIB     Nasional  \n",
            "7   Kompas.com - 09/09/2024, 13:02 WIB     Nasional  \n",
            "8   Kompas.com - 09/09/2024, 12:55 WIB     Nasional  \n",
            "9   Kompas.com - 09/09/2024, 12:53 WIB  Megapolitan  \n",
            "10  Kompas.com - 09/09/2024, 12:51 WIB     Nasional  \n",
            "11  Kompas.com - 09/09/2024, 12:45 WIB  Megapolitan  \n",
            "12  Kompas.com - 09/09/2024, 12:44 WIB     Nasional  \n",
            "13  Kompas.com - 09/09/2024, 12:39 WIB     Nasional  \n",
            "14  Kompas.com - 09/09/2024, 12:38 WIB  Megapolitan  \n",
            "15  Kompas.com - 09/09/2024, 12:34 WIB     Nasional  \n",
            "16  Kompas.com - 09/09/2024, 12:33 WIB  Megapolitan  \n",
            "17  Kompas.com - 09/09/2024, 12:23 WIB  Megapolitan  \n",
            "18  Kompas.com - 09/09/2024, 12:20 WIB     Nasional  \n",
            "19  Kompas.com - 09/09/2024, 12:12 WIB  Megapolitan  \n",
            "20  Kompas.com - 09/09/2024, 12:07 WIB  Megapolitan  \n",
            "21  Kompas.com - 09/09/2024, 12:06 WIB     Nasional  \n",
            "22  Kompas.com - 09/09/2024, 11:55 WIB  Megapolitan  \n",
            "23  Kompas.com - 09/09/2024, 11:53 WIB     Nasional  \n",
            "24  Kompas.com - 09/09/2024, 11:48 WIB     Nasional  \n",
            "25  Kompas.com - 09/09/2024, 11:45 WIB     Nasional  \n",
            "26  Kompas.com - 09/09/2024, 11:32 WIB  Megapolitan  \n",
            "27  Kompas.com - 09/09/2024, 11:31 WIB  Megapolitan  \n",
            "28  Kompas.com - 09/09/2024, 11:29 WIB  Megapolitan  \n",
            "29  Kompas.com - 09/09/2024, 11:28 WIB     Nasional  \n",
            "Data has been saved to berita_kompas.csv\n"
          ]
        }
      ],
      "source": [
        "ppageage = int(input('Masukkan jumlah halaman: '))\n",
        "berita = start(page)\n",
        "\n",
        "if berita:\n",
        "    # Create a DataFrame and display it\n",
        "    dataFrame = pd.DataFrame(berita)\n",
        "    print(dataFrame)\n",
        "\n",
        "    # Save DataFrame to a CSV file\n",
        "    csv_filename = 'berita_kompas.csv'\n",
        "    dataFrame.to_csv(csv_filename, index=False, encoding='utf-8-sig')\n",
        "    print(f\"Data has been saved to {csv_filename}\")\n",
        "else:\n",
        "    print(\"No news data was collected.\")"
      ]
    },
    {
      "cell_type": "markdown",
      "metadata": {
        "id": "P8UKx39pkKHd"
      },
      "source": [
        "ini fungsi untuk memasukkannya ke dalam data frame"
      ]
    }
  ],
  "metadata": {
    "colab": {
      "provenance": []
    },
    "kernelspec": {
      "display_name": "Python 3",
      "name": "python3"
    },
    "language_info": {
      "name": "python"
    }
  },
  "nbformat": 4,
  "nbformat_minor": 0
}
