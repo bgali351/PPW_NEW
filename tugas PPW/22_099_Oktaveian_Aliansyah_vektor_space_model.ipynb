{
  "nbformat": 4,
  "nbformat_minor": 0,
  "metadata": {
    "colab": {
      "provenance": []
    },
    "kernelspec": {
      "name": "python3",
      "display_name": "Python 3"
    },
    "language_info": {
      "name": "python"
    }
  },
  "cells": [
    {
      "cell_type": "markdown",
      "source": [
        "# membuat vektor space model\n",
        "\n",
        "Vektor space model merupakan salah satu cara merepresentasikan teks dalam bentuk vektor berdasarkan frekuensi kata-kata dalam dokumen. Didalam model ini setiap kata dalam dokumen direpresentasikan sebagai sebuah fitur dalam vektor dan bobot tiap kata ditentukan oleh Tf-Idf.\n",
        "\n",
        "## berikut proses membuat vektor space model\n",
        "\n"
      ],
      "metadata": {
        "id": "sx7YVUkb88-i"
      }
    },
    {
      "cell_type": "markdown",
      "source": [
        "## tool atau library"
      ],
      "metadata": {
        "id": "jsJ_g52fkxSl"
      }
    },
    {
      "cell_type": "code",
      "execution_count": 8,
      "metadata": {
        "id": "afyugQS684eI"
      },
      "outputs": [],
      "source": [
        "import pandas as pd\n",
        "import re\n",
        "from sklearn.feature_extraction.text import TfidfVectorizer"
      ]
    },
    {
      "cell_type": "markdown",
      "source": [
        "- pandas berfungsi untuk membaca dan menganalisis data yang disimpan\n",
        "- TfidfVectorizer berfungsi untuk melakukan operasi TF-IDF"
      ],
      "metadata": {
        "id": "Cdu9ex_zk9xP"
      }
    },
    {
      "cell_type": "markdown",
      "source": [
        "## code program"
      ],
      "metadata": {
        "id": "KT08hgaKlbjN"
      }
    },
    {
      "cell_type": "code",
      "source": [
        "file_berita = 'berita_kompas.csv'\n",
        "df = pd.read_csv(file_berita)"
      ],
      "metadata": {
        "id": "asF57pbalWCr"
      },
      "execution_count": 3,
      "outputs": []
    },
    {
      "cell_type": "markdown",
      "source": [
        "untuk membaca file hasil crawling"
      ],
      "metadata": {
        "id": "tzox7v1vl8U6"
      }
    },
    {
      "cell_type": "code",
      "source": [
        "print(df.head())"
      ],
      "metadata": {
        "id": "XgWyWPsRmGLo"
      },
      "execution_count": null,
      "outputs": []
    },
    {
      "cell_type": "markdown",
      "source": [
        "untuk menampilkan 5 data pertama, sekaligus untuk memeriksa data sudah benar atau tidak"
      ],
      "metadata": {
        "id": "WdO3I7sjmK8y"
      }
    },
    {
      "cell_type": "code",
      "source": [
        "def remove_numbers(text):\n",
        "    return re.sub(r'\\d+', '', text)"
      ],
      "metadata": {
        "id": "mhTMoG_FqGxI"
      },
      "execution_count": 9,
      "outputs": []
    },
    {
      "cell_type": "markdown",
      "source": [
        "fungsi untuk menghilangkan angka"
      ],
      "metadata": {
        "id": "RaI_8rg3qIEe"
      }
    },
    {
      "cell_type": "code",
      "source": [
        "if 'isi' in df.columns:\n",
        "    # isi_berita = df['isi'].fillna('').tolist()\n",
        "    df['isi'] = df['isi'].fillna('').apply(remove_numbers)\n",
        "    isi_berita = df['isi'].tolist()\n",
        "\n",
        "    # print(isi_berita)\n",
        "\n",
        "    V = TfidfVectorizer()\n",
        "\n",
        "    tfidf = V.fit_transform(isi_berita)\n",
        "\n",
        "    kata_unik = V.get_feature_names_out()\n",
        "\n",
        "    toarray = tfidf.toarray()\n",
        "\n",
        "    print(\"Fitur (Kata-kata unik):\")\n",
        "    print(kata_unik)\n",
        "\n",
        "    df_tfidf = pd.DataFrame(toarray, columns=kata_unik)\n",
        "    print(\"\\nMatriks TF-IDF dalam bentuk DataFrame:\")\n",
        "    print(df_tfidf)\n",
        "\n",
        "    output_file = 'tfidf_output.csv'\n",
        "    df_tfidf.to_csv(output_file, index=False)\n",
        "    print(f\"Hasil TF-IDF telah disimpan ke dalam file: {output_file}\")\n",
        "\n",
        "else:\n",
        "    print(\"Kolom 'isi' tidak ditemukan dalam dataset.\")\n"
      ],
      "metadata": {
        "colab": {
          "base_uri": "https://localhost:8080/"
        },
        "id": "IRR7IfmNmVnq",
        "outputId": "1099614d-ccb1-44f8-c987-6ef597faaff5"
      },
      "execution_count": 10,
      "outputs": [
        {
          "output_type": "stream",
          "name": "stdout",
          "text": [
            "Fitur (Kata-kata unik):\n",
            "['aa' 'abdul' 'absen' ... 'yusman' 'yusuf' 'zaken']\n",
            "\n",
            "Matriks TF-IDF dalam bentuk DataFrame:\n",
            "     aa  abdul  absen  abuse  acara  aceh   ad       ada    adalah  adam  ...  \\\n",
            "0   0.0    0.0    0.0    0.0    0.0   0.0  0.0  0.047500  0.000000   0.0  ...   \n",
            "1   0.0    0.0    0.0    0.0    0.0   0.0  0.0  0.017217  0.000000   0.0  ...   \n",
            "2   0.0    0.0    0.0    0.0    0.0   0.0  0.0  0.031461  0.000000   0.0  ...   \n",
            "3   0.0    0.0    0.0    0.0    0.0   0.0  0.0  0.035723  0.000000   0.0  ...   \n",
            "4   0.0    0.0    0.0    0.0    0.0   0.0  0.0  0.000000  0.016322   0.0  ...   \n",
            "..  ...    ...    ...    ...    ...   ...  ...       ...       ...   ...  ...   \n",
            "70  0.0    0.0    0.0    0.0    0.0   0.0  0.0  0.000000  0.000000   0.0  ...   \n",
            "71  0.0    0.0    0.0    0.0    0.0   0.0  0.0  0.047447  0.000000   0.0  ...   \n",
            "72  0.0    0.0    0.0    0.0    0.0   0.0  0.0  0.190963  0.043461   0.0  ...   \n",
            "73  0.0    0.0    0.0    0.0    0.0   0.0  0.0  0.023347  0.031881   0.0  ...   \n",
            "74  0.0    0.0    0.0    0.0    0.0   0.0  0.0  0.000000  0.000000   0.0  ...   \n",
            "\n",
            "    york  youtube      yoyo  yudhoyono  yudisial  yuridiksi  yuridis  yusman  \\\n",
            "0    0.0      0.0  0.000000        0.0       0.0        0.0      0.0     0.0   \n",
            "1    0.0      0.0  0.000000        0.0       0.0        0.0      0.0     0.0   \n",
            "2    0.0      0.0  0.086094        0.0       0.0        0.0      0.0     0.0   \n",
            "3    0.0      0.0  0.000000        0.0       0.0        0.0      0.0     0.0   \n",
            "4    0.0      0.0  0.000000        0.0       0.0        0.0      0.0     0.0   \n",
            "..   ...      ...       ...        ...       ...        ...      ...     ...   \n",
            "70   0.0      0.0  0.000000        0.0       0.0        0.0      0.0     0.0   \n",
            "71   0.0      0.0  0.000000        0.0       0.0        0.0      0.0     0.0   \n",
            "72   0.0      0.0  0.000000        0.0       0.0        0.0      0.0     0.0   \n",
            "73   0.0      0.0  0.000000        0.0       0.0        0.0      0.0     0.0   \n",
            "74   0.0      0.0  0.000000        0.0       0.0        0.0      0.0     0.0   \n",
            "\n",
            "    yusuf  zaken  \n",
            "0     0.0    0.0  \n",
            "1     0.0    0.0  \n",
            "2     0.0    0.0  \n",
            "3     0.0    0.0  \n",
            "4     0.0    0.0  \n",
            "..    ...    ...  \n",
            "70    0.0    0.0  \n",
            "71    0.0    0.0  \n",
            "72    0.0    0.0  \n",
            "73    0.0    0.0  \n",
            "74    0.0    0.0  \n",
            "\n",
            "[75 rows x 3826 columns]\n",
            "Hasil TF-IDF telah disimpan ke dalam file: tfidf_output.csv\n"
          ]
        }
      ]
    },
    {
      "cell_type": "markdown",
      "source": [
        "pertama kita kita asumsika bahwa kolom \"isi\" ada pada dataset dan membuat variabel \"isi_berita\" untuk menampung teks dalam \"isi\" dan menghapus angka dalam \"isi\"\n",
        "\n",
        "kemudian lakukan inisialisasi \"TfidfVectorizer\", selanjutnya menghitung TF-IDF dengan menggunakan \"fit-transform\". untuk mendapatkan kata-kata unik dalam dokumen dengan menggunakan \"get_feature_names_out\",  lalu menampilkan hasil TF-IDF dalam bentuk matriks menggunakan perintah \"toarray\"."
      ],
      "metadata": {
        "id": "Ld4rQxmwmw1y"
      }
    }
  ]
}