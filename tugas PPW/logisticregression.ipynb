{
 "cells": [
  {
   "cell_type": "markdown",
   "metadata": {},
   "source": [
    "# implementasi VSM TF-IDF menggunakan klasifikasi logistic regresion"
   ]
  },
  {
   "cell_type": "markdown",
   "metadata": {},
   "source": [
    "## proses melakukan logistic regresion"
   ]
  },
  {
   "cell_type": "markdown",
   "metadata": {},
   "source": [
    "### import library yang diperlukan"
   ]
  },
  {
   "cell_type": "code",
   "execution_count": 16,
   "metadata": {},
   "outputs": [
    {
     "name": "stderr",
     "output_type": "stream",
     "text": [
      "[nltk_data] Downloading package stopwords to\n",
      "[nltk_data]     C:\\Users\\OKTAVIAN\\AppData\\Roaming\\nltk_data...\n",
      "[nltk_data]   Package stopwords is already up-to-date!\n",
      "[nltk_data] Downloading package punkt_tab to\n",
      "[nltk_data]     C:\\Users\\OKTAVIAN\\AppData\\Roaming\\nltk_data...\n",
      "[nltk_data]   Package punkt_tab is already up-to-date!\n"
     ]
    },
    {
     "data": {
      "text/plain": [
       "True"
      ]
     },
     "execution_count": 16,
     "metadata": {},
     "output_type": "execute_result"
    }
   ],
   "source": [
    "import pandas as pd\n",
    "import string\n",
    "import re\n",
    "from nltk.corpus import stopwords\n",
    "from nltk.tokenize import word_tokenize\n",
    "import nltk\n",
    "from sklearn.model_selection import train_test_split\n",
    "from sklearn.feature_extraction.text import TfidfVectorizer\n",
    "from sklearn.linear_model import LogisticRegression\n",
    "from sklearn.metrics import accuracy_score, classification_report\n",
    "\n",
    "nltk.download('stopwords')\n",
    "nltk.download('punkt_tab')"
   ]
  },
  {
   "cell_type": "markdown",
   "metadata": {},
   "source": [
    "fungsi dari beberapa library diatas adalah:\n",
    "- pandas : untuk memproses data\n",
    "- string dan re : untuk membersihkan teks\n",
    "- nltk : untuk mengatasi stopwords dan tokenisasi teks\n",
    "- sklearn : untuk vektorisasi teks menggunakan TF-IDF dan mengimplementasikan klasifikasi logistic regression"
   ]
  },
  {
   "cell_type": "code",
   "execution_count": 17,
   "metadata": {},
   "outputs": [],
   "source": [
    "df = pd.read_csv('berita_kompas.csv')"
   ]
  },
  {
   "cell_type": "markdown",
   "metadata": {},
   "source": [
    "untuk memuat dataset dari file csv"
   ]
  },
  {
   "cell_type": "code",
   "execution_count": 18,
   "metadata": {},
   "outputs": [],
   "source": [
    "def preptext(text):\n",
    "    text = text.translate(str.maketrans('', '', string.punctuation))\n",
    "    text = re.sub(r'\\d+', '', text)\n",
    "    words = word_tokenize(text.lower())\n",
    "\n",
    "    sw = set(stopwords.words(\"indonesian\" and \"english\"))\n",
    "    words = [word for word in words if word not in sw]\n",
    "    return ' '.join(words)"
   ]
  },
  {
   "cell_type": "markdown",
   "metadata": {},
   "source": [
    "fungsi untuk melakukan preprocessing tekt, seperti:\n",
    "- menghapus tanda baca\n",
    "- menghapus angka\n",
    "- mengubah teks ke huruf kecil\n",
    "- menghapus stopword dalam bahasa indonesia dan bahasa inggris"
   ]
  },
  {
   "cell_type": "code",
   "execution_count": 19,
   "metadata": {},
   "outputs": [],
   "source": [
    "df['isi_baru'] = df['isi'].apply(preptext)\n",
    "\n",
    "vector = TfidfVectorizer(max_features=1000)\n",
    "x = vector.fit_transform(df['isi_baru'])\n",
    "feature_names = vector.get_feature_names_out()\n",
    "\n",
    "y = df['kategori']"
   ]
  },
  {
   "cell_type": "markdown",
   "metadata": {},
   "source": [
    "mengubah teks mentah menjadi numerik menggunakan TF-IDF"
   ]
  },
  {
   "cell_type": "code",
   "execution_count": 20,
   "metadata": {},
   "outputs": [],
   "source": [
    "xtrain, xtest, ytrain, ytest = train_test_split(x,y, test_size=0.2, random_state=42)\n"
   ]
  },
  {
   "cell_type": "markdown",
   "metadata": {},
   "source": [
    "untuk membagi dataset menjadi data pelatihan dan data pengujian (20%)"
   ]
  },
  {
   "cell_type": "code",
   "execution_count": 21,
   "metadata": {},
   "outputs": [],
   "source": [
    "LR = LogisticRegression(max_iter=1000)\n",
    "LR.fit(xtrain,ytrain)\n",
    "ypred = LR.predict(xtest)\n"
   ]
  },
  {
   "cell_type": "markdown",
   "metadata": {},
   "source": [
    "melatih model klasifikasi logistic regresion pada data pelatihan lalu memprediksi label pada data pengujian"
   ]
  },
  {
   "cell_type": "code",
   "execution_count": 22,
   "metadata": {},
   "outputs": [
    {
     "name": "stdout",
     "output_type": "stream",
     "text": [
      "  (0, 957)\t0.05393416481885578\n",
      "  (0, 86)\t0.06606474743063369\n",
      "  (0, 569)\t0.06606474743063369\n",
      "  (0, 791)\t0.0526559969146404\n",
      "  (0, 723)\t0.15691447585062562\n",
      "  (0, 366)\t0.08256531144689429\n",
      "  (0, 823)\t0.18550183277718638\n",
      "  (0, 527)\t0.046282914544640646\n",
      "  (0, 903)\t0.05031099198653841\n",
      "  (0, 428)\t0.07461329539572101\n",
      "  (0, 623)\t0.06183394425906212\n",
      "  (0, 54)\t0.05031099198653841\n",
      "  (0, 391)\t0.04820090105916333\n",
      "  (0, 67)\t0.058311890629910205\n",
      "  (0, 373)\t0.07136328829522692\n",
      "  (0, 921)\t0.031215653207987207\n",
      "  (0, 117)\t0.07461329539572101\n",
      "  (0, 376)\t0.06854800408983205\n",
      "  (0, 901)\t0.06183394425906212\n",
      "  (0, 807)\t0.056749449024250644\n",
      "  (0, 98)\t0.059999456124744735\n",
      "  (0, 980)\t0.0526559969146404\n",
      "  (0, 374)\t0.06854800408983205\n",
      "  (0, 436)\t0.04922955938336026\n",
      "  (0, 387)\t0.051450908159657416\n",
      "  :\t:\n",
      "  (74, 606)\t0.07537558624290906\n",
      "  (74, 963)\t0.026648343769735943\n",
      "  (74, 22)\t0.11330669860090477\n",
      "  (74, 501)\t0.024795825846587145\n",
      "  (74, 366)\t0.026527229636109505\n",
      "  (74, 903)\t0.02424646405844033\n",
      "  (74, 373)\t0.03439223391193139\n",
      "  (74, 980)\t0.025376596370705287\n",
      "  (74, 436)\t0.023725287359090005\n",
      "  (74, 387)\t0.024795825846587145\n",
      "  (74, 481)\t0.024795825846587145\n",
      "  (74, 437)\t0.026648343769735943\n",
      "  (74, 966)\t0.023498612653711955\n",
      "  (74, 923)\t0.02734936088063918\n",
      "  (74, 149)\t0.3338139690848495\n",
      "  (74, 302)\t0.05498158060278632\n",
      "  (74, 148)\t0.04637671139210179\n",
      "  (74, 91)\t0.03183869887787936\n",
      "  (74, 422)\t0.2030127709656423\n",
      "  (74, 334)\t0.010431686533901547\n",
      "  (74, 992)\t0.13561192494072014\n",
      "  (74, 316)\t0.023725287359090005\n",
      "  (74, 166)\t0.0609643079751354\n",
      "  (74, 935)\t0.026648343769735943\n",
      "  (74, 314)\t0.20893000629058806\n",
      "['abdul' 'acara' 'ad' 'ada' 'adalah' 'adanya' 'adapun' 'adhoc' 'adil'\n",
      " 'adu' 'advokasi' 'agama' 'agar' 'agenda' 'aglomerasi' 'agung' 'agus'\n",
      " 'agustus' 'ahmad' 'ahy' 'akademik' 'akademisi' 'akan' 'akhir' 'akhirnya'\n",
      " 'akibat' 'akpol' 'aksi' 'aktivis' 'aktivitas' 'al' 'alasan' 'alat'\n",
      " 'allah' 'alri' 'alunalun' 'alutsista' 'amerika' 'anak' 'anggota'\n",
      " 'angkatan' 'anies' 'antara' 'antonius' 'antrean' 'anung' 'apa' 'apakah'\n",
      " 'aparat' 'arah' 'artha' 'aset' 'aspirasi' 'asyari' 'atas' 'atau' 'aturan'\n",
      " 'audiensi' 'australia' 'awal' 'ayat' 'ayu' 'baca' 'bacawagub' 'badan'\n",
      " 'bagaimana' 'bagi' 'bagian' 'bahkan' 'bahwa' 'baik' 'bakal' 'bambang'\n",
      " 'bamsoet' 'bandara' 'banding' 'bangsa' 'bank' 'bantuan' 'banyak' 'bapak'\n",
      " 'barat' 'baru' 'baswedan' 'batal' 'batas' 'bawah' 'bayam' 'bayar'\n",
      " 'beberapa' 'begitu' 'bekasi' 'bekerja' 'belajar' 'belasan' 'beliau'\n",
      " 'belum' 'bentuk' 'berada' 'berangkat' 'berbagai' 'berbeda' 'berdasarkan'\n",
      " 'bergabung' 'berhasil' 'berikut' 'berinisial' 'berjanji' 'berkantor'\n",
      " 'berkhianat' 'berlaku' 'berlangsung' 'berlanjut' 'berlayar' 'bersama'\n",
      " 'bertemu' 'berupa' 'berusaha' 'berwarna' 'besar' 'betul' 'biasa'\n",
      " 'biasanya' 'biaya' 'bicara' 'bidangnya' 'bilang' 'bisa' 'bisnis' 'blbi'\n",
      " 'blusukan' 'bobihoe' 'bogor' 'boleh' 'bpk' 'brawijaya' 'bukan' 'bukti'\n",
      " 'bulan' 'bung' 'bus' 'bva' 'calon' 'cara' 'cukup' 'curiga' 'daerah'\n",
      " 'daftar' 'dalam' 'dan' 'dana' 'dapat' 'dari' 'data' 'datang' 'deddy'\n",
      " 'dekat' 'demikian' 'demokrasi' 'demokrat' 'denda' 'dengan' 'depan'\n",
      " 'depok' 'dewan' 'dh' 'di' 'dia' 'diambil' 'dibangun' 'dibawa' 'diberikan'\n",
      " 'diberitakan' 'diduga' 'digelar' 'digugat' 'dihadiri' 'dihantam'\n",
      " 'diharapkan' 'dihubungi' 'diikuti' 'diisi' 'dijamin' 'dijatuhi' 'dikenal'\n",
      " 'diketahui' 'dikonfirmasi' 'dikutip' 'dilakukan' 'dilanjutkan' 'dilantik'\n",
      " 'dilibatkan' 'dim' 'dimulai' 'dinas' 'dinilai' 'dipecat' 'dipimpin'\n",
      " 'dipulangkan' 'direktur' 'diri' 'dirinya' 'disahkan' 'disampaikan'\n",
      " 'disebut' 'disebutkan' 'diselesaikan' 'disetujui' 'diskusi' 'ditampilkan'\n",
      " 'ditemui' 'ditemukan' 'diterima' 'ditetapkan' 'ditunjuk' 'diusung' 'dki'\n",
      " 'doel' 'doli' 'dollar' 'dpp' 'dpr' 'dua' 'dugaan' 'dukungan' 'dunia'\n",
      " 'ekonomi' 'eks' 'elite' 'empat' 'enggak' 'enggan' 'etik' 'evi' 'faldo'\n",
      " 'fasilitas' 'februari' 'firli' 'fit' 'fokus' 'forum' 'fraksi'\n",
      " 'fransiskus' 'gabungan' 'gagasan' 'galian' 'garuda' 'gbk' 'gedung'\n",
      " 'gelora' 'gerakan' 'gerindra' 'gibran' 'golput' 'gratifikasi'\n",
      " 'groundbreaking' 'gs' 'gubernur' 'gugatan' 'hadir' 'haji' 'hak' 'hakhak'\n",
      " 'hakim' 'hal' 'halte' 'ham' 'hanya' 'harapan' 'hardi' 'hari' 'hariyanto'\n",
      " 'harris' 'harus' 'harvey' 'hasil' 'hasyim' 'hidup' 'hingga' 'hoc'\n",
      " 'hormat' 'hotma' 'hukum' 'hukuman' 'hukumnya' 'humas' 'huruf' 'hut' 'ia'\n",
      " 'ibadah' 'ibu' 'iffa' 'ii' 'iii' 'ikn' 'ikut' 'imbuhnya' 'imigrasi'\n",
      " 'indonesia' 'industri' 'informasi' 'ingin' 'ini' 'insya' 'internal'\n",
      " 'istana' 'itu' 'iup' 'iya' 'izin' 'jabatan' 'jadi' 'jaelani' 'jaja'\n",
      " 'jakarta' 'jaksa' 'jalan' 'jalur' 'jam' 'jaminan' 'jangan' 'jatiasih'\n",
      " 'jatiwaringin' 'jawa' 'jawab' 'jaya' 'jelas' 'jemaah' 'jenderal' 'jika'\n",
      " 'jk' 'joko' 'jokowi' 'judha' 'juga' 'juli' 'jumat' 'jumlah' 'juncto'\n",
      " 'juru' 'jusuf' 'juta' 'kabinet' 'kader' 'kalau' 'kali' 'kalimantan'\n",
      " 'kalla' 'kamar' 'kami' 'kamil' 'kamilsuswono' 'kampung' 'kan' 'kantong'\n",
      " 'kantor' 'kapal' 'kapalkapal' 'kapolri' 'karena' 'karno' 'kasih' 'kasus'\n",
      " 'kata' 'katanya' 'kawasan' 'ke' 'keadilan' 'kebangkitan' 'kebijakan'\n",
      " 'kebutuhan' 'kecelakaan' 'kediamannya' 'kedua' 'keduanya' 'kegiatan'\n",
      " 'kejadian' 'kekuasaan' 'kekuatan' 'keliling' 'kelompok' 'keluarga'\n",
      " 'kemacetan' 'kembali' 'kemenag' 'kementan' 'kementerian' 'kemudian'\n",
      " 'kemungkinan' 'kendaraan' 'kepada' 'kepala' 'kepengurusan' 'kepolisian'\n",
      " 'kepresidenan' 'keputusan' 'keras' 'kerja' 'kerugian' 'kesempatan'\n",
      " 'ketentuan' 'keterangan' 'keterangannya' 'ketiga' 'ketika' 'ketua'\n",
      " 'keuangan' 'kfa' 'khusus' 'kim' 'kini' 'kita' 'koalisi' 'komisi'\n",
      " 'komisioner' 'komnas' 'kompascom' 'kompleks' 'kondisi' 'konstitusi'\n",
      " 'korban' 'korupsi' 'kota' 'kpk' 'kpu' 'kri' 'kualitas' 'kuasa' 'kuhp'\n",
      " 'kunjung' 'kunjungan' 'kuota' 'kurungan' 'kwi' 'ky' 'lagi' 'lain'\n",
      " 'lainnya' 'lakukan' 'lalu' 'lama' 'langkah' 'langsung' 'lanjut' 'laporan'\n",
      " 'laut' 'layak' 'layanan' 'lebih' 'legislasi' 'lembaga' 'lewat' 'liar'\n",
      " 'lima' 'limo' 'limpo' 'lingkungan' 'lintas' 'lokasi' 'luar' 'maaf'\n",
      " 'macet' 'maharani' 'mahkamah' 'majelis' 'maju' 'makanan' 'maksimal'\n",
      " 'malam' 'mana' 'mantan' 'marimutu' 'marwan' 'masa' 'masalah' 'masih'\n",
      " 'masingmasing' 'masuk' 'masyarakat' 'mau' 'maupun' 'media' 'megawati'\n",
      " 'melakukan' 'melalui' 'melanggar' 'melanjutkan' 'melaporkan' 'melawan'\n",
      " 'melibatkan' 'melihat' 'melintas' 'meliputi' 'memang' 'memastikan'\n",
      " 'membahas' 'membantah' 'membantu' 'membatalkan' 'membawa' 'membentuk'\n",
      " 'memberikan' 'membuat' 'memenuhi' 'memilih' 'memiliki' 'memimpin'\n",
      " 'meminta' 'memperjuangkan' 'mencapai' 'mencari' 'mencoba' 'mencoblos'\n",
      " 'mendapat' 'mendapatkan' 'mendatang' 'mendorong' 'mendukung' 'menegaskan'\n",
      " 'menentukan' 'menerima' 'menetapkan' 'mengajukan' 'mengaku' 'mengakui'\n",
      " 'mengalami' 'mengambil' 'mengatakan' 'mengatur' 'mengawal' 'mengenai'\n",
      " 'mengesahkan' 'mengetahui' 'menggelar' 'menggunakan' 'menghadapi'\n",
      " 'mengikuti' 'mengingatkan' 'mengisi' 'mengubah' 'mengungkapkan'\n",
      " 'mengunjungi' 'mengusulkan' 'mengusung' 'menilai' 'meninggal' 'meninjau'\n",
      " 'menjabat' 'menjadi' 'menjaga' 'menjalankan' 'menjatuhkan' 'menjelaskan'\n",
      " 'menteri' 'menurut' 'menuturkan' 'menyampaikan' 'menyatakan' 'menyebut'\n",
      " 'menyebutkan' 'menyelesaikan' 'merayakan' 'mereka' 'merupakan' 'meski'\n",
      " 'meskipun' 'metro' 'miliar' 'milik' 'minggu' 'minta' 'mobil' 'modus'\n",
      " 'motor' 'mpr' 'mprdpr' 'mprs' 'mulai' 'mulut' 'muncul' 'mundur' 'muter'\n",
      " 'muzani' 'nah' 'nama' 'namanama' 'namanya' 'namun' 'nanti' 'nantinya'\n",
      " 'nasdem' 'nasional' 'ndak' 'negara' 'negeri' 'nol' 'nomor' 'nusantara'\n",
      " 'nusron' 'oktober' 'oky' 'oleh' 'online' 'orang' 'orangorang'\n",
      " 'organisasi' 'pada' 'padahal' 'pagi' 'pajak' 'pak' 'paloh' 'panglima'\n",
      " 'panitia' 'panjang' 'pansus' 'pantauan' 'para' 'paripurna' 'parkir'\n",
      " 'parlemen' 'parpol' 'partai' 'pasal' 'pasalnya' 'pasangan' 'paspampres'\n",
      " 'pass' 'pasti' 'pasukan' 'paus' 'pdi' 'pdip' 'pejabat' 'pejuang' 'pekan'\n",
      " 'pekerja' 'pelaksanaan' 'pelaku' 'pelanggaran' 'pelantikan' 'pembalasan'\n",
      " 'pembangunan' 'pembatalan' 'pemberantasan' 'pemenangan' 'pemenangannya'\n",
      " 'pemerasan' 'pemerintah' 'pemerintahan' 'pemilihan' 'pemilu' 'pemukulan'\n",
      " 'pemulihan' 'penanganan' 'penataan' 'pencabutan' 'penculikan'\n",
      " 'pendidikan' 'pendukung' 'pengadilan' 'pengalaman' 'pengamanan'\n",
      " 'pengambilan' 'pengasuhnya' 'pengendara' 'pengesahan' 'pengganti'\n",
      " 'penggugat' 'pengisian' 'pengunjung' 'penjara' 'penolakan' 'penting'\n",
      " 'penugasan' 'penunjukan' 'penuntut' 'penyerahan' 'perampasan' 'peran'\n",
      " 'perang' 'peraturan' 'perdata' 'pergantian' 'peringatan' 'periode'\n",
      " 'peristiwa' 'perjuangan' 'perkara' 'perlindungan' 'perlu' 'permanen'\n",
      " 'pernah' 'perpanjangan' 'pers' 'persoalan' 'personel' 'pertama'\n",
      " 'pertambangan' 'pertandingan' 'pertanian' 'pertemuan' 'perubahan'\n",
      " 'perusahaan' 'perwakilan' 'pesan' 'peserta' 'petugas' 'pidana' 'pihak'\n",
      " 'pihk' 'pilkada' 'pilpres' 'pimpinan' 'pki' 'pks' 'plus' 'polemik'\n",
      " 'polisi' 'politik' 'politikus' 'polres' 'polri' 'polsek' 'posisi' 'pprt'\n",
      " 'prabowo' 'prabowogibran' 'pramono' 'pratikno' 'presiden' 'pria'\n",
      " 'prioritas' 'program' 'proper' 'proses' 'provinsi' 'proyek' 'prt' 'psi'\n",
      " 'pt' 'ptun' 'puan' 'pukul' 'pula' 'pun' 'punya' 'pusat' 'putusan'\n",
      " 'radjiman' 'raka' 'rakabuming' 'rakyat' 'rancangan' 'rano' 'rapat' 'rbt'\n",
      " 'renaldi' 'rencana' 'republik' 'resmi' 'ri' 'ridwan' 'rksuswono' 'rp'\n",
      " 'ruas' 'rumah' 'ruu' 'saat' 'sah' 'sahroni' 'saja' 'sakit' 'saksi'\n",
      " 'salah' 'salam' 'saleh' 'sama' 'samarinda' 'sampah' 'sampai' 'sampaikan'\n",
      " 'sangat' 'saragih' 'satu' 'saya' 'sby' 'sebab' 'sebagai' 'sebagaimana'\n",
      " 'sebanyak' 'sebelum' 'sebelumnya' 'sebesar' 'sebuah' 'sebut' 'secara'\n",
      " 'sedang' 'segera' 'sehari' 'seharusnya' 'sehingga' 'sejak' 'sejumlah'\n",
      " 'sekali' 'sekaligus' 'sekarang' 'sekitar' 'sekretariat' 'sekretaris'\n",
      " 'seksi' 'sektor' 'selain' 'selalu' 'selam' 'selama' 'selanjutnya'\n",
      " 'selasa' 'selatan' 'seleksi' 'seluruh' 'semakin' 'sementara' 'sempat'\n",
      " 'semua' 'senayan' 'sendiri' 'sengaja' 'senin' 'seorang' 'sepenuhnya'\n",
      " 'seperti' 'september' 'serikat' 'sering' 'serta' 'sesuai' 'setelah'\n",
      " 'setempat' 'setiap' 'si' 'siap' 'siapa' 'sidang' 'silaturahmi' 'sim'\n",
      " 'sini' 'sinivasan' 'sistem' 'situ' 'situasi' 'sk' 'soal' 'soekarno'\n",
      " 'sosial' 'sosok' 'staf' 'status' 'strategis' 'suaminya' 'suara'\n",
      " 'suaranya' 'subachran' 'subianto' 'subsider' 'sudah' 'sulawesi' 'sulit'\n",
      " 'sulsel' 'sumatera' 'sungai' 'surat' 'surya' 'susatyo' 'susun' 'suswono'\n",
      " 'syahrul' 'syarat' 'syl' 'sz' 'tadi' 'tahap' 'tahu' 'tahun' 'tak' 'taksi'\n",
      " 'tambah' 'tambahan' 'tangerang' 'tangga' 'tanggal' 'tanpa' 'tap' 'tapi'\n",
      " 'taruna' 'tata' 'teguh' 'teknologi' 'telah' 'teluk' 'temanteman' 'tempat'\n",
      " 'tengah' 'tentang' 'tentu' 'tepat' 'tepi' 'terbaik' 'terbatas' 'terbukti'\n",
      " 'terdakwa' 'terdapat' 'terdiri' 'terhadap' 'terima' 'terjadi' 'terkait'\n",
      " 'terlibat' 'terlihat' 'termasuk' 'terpilih' 'tersebut' 'tertulis' 'terus'\n",
      " 'terutama' 'test' 'tetap' 'tetapi' 'texmaco' 'theresia' 'tidak' 'tiga'\n",
      " 'tim' 'timah' 'timses' 'timur' 'tindak' 'tindakan' 'tinggal' 'tinggi'\n",
      " 'tingkat' 'tipikor' 'tni' 'tnipolri' 'tol' 'tps' 'transjakarta' 'triliun'\n",
      " 'tuduhan' 'tugas' 'tunggu' 'tuntutan' 'turut' 'tutup' 'tutur' 'tuturnya'\n",
      " 'uang' 'ucap' 'udara' 'ujar' 'ujarnya' 'ulang' 'umum' 'undangundang'\n",
      " 'ungkap' 'universitas' 'untuk' 'upacara' 'upaya' 'usaha' 'usai' 'utama'\n",
      " 'utara' 'uu' 'video' 'viral' 'visi' 'wakil' 'waktu' 'wali' 'warga'\n",
      " 'warung' 'wib' 'wibi' 'widodo' 'widyodiningrat' 'wilayah' 'wni' 'ya'\n",
      " 'yaitu' 'yakin' 'yakni' 'yang' 'yasin' 'ych' 'youtube' 'yoyo' 'yudisial'\n",
      " 'yusuf' 'zaken']\n",
      "\n",
      "score akurasi : 0.8000\n",
      "              precision    recall  f1-score   support\n",
      "\n",
      " Megapolitan       1.00      0.50      0.67         6\n",
      "    Nasional       0.75      1.00      0.86         9\n",
      "\n",
      "    accuracy                           0.80        15\n",
      "   macro avg       0.88      0.75      0.76        15\n",
      "weighted avg       0.85      0.80      0.78        15\n",
      "\n"
     ]
    }
   ],
   "source": [
    "print(x)\n",
    "print(feature_names)\n",
    "print('')\n",
    "score_acc = accuracy_score(ytest,ypred)\n",
    "print(f\"score akurasi : {score_acc:.4f}\" )\n",
    "print(classification_report(ytest, ypred))"
   ]
  },
  {
   "cell_type": "markdown",
   "metadata": {},
   "source": [
    "hasil dari akurasi model adalah 80%"
   ]
  }
 ],
 "metadata": {
  "kernelspec": {
   "display_name": "Python 3",
   "language": "python",
   "name": "python3"
  },
  "language_info": {
   "codemirror_mode": {
    "name": "ipython",
    "version": 3
   },
   "file_extension": ".py",
   "mimetype": "text/x-python",
   "name": "python",
   "nbconvert_exporter": "python",
   "pygments_lexer": "ipython3",
   "version": "3.12.0"
  }
 },
 "nbformat": 4,
 "nbformat_minor": 2
}
